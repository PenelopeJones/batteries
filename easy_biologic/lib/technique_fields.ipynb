{
 "cells": [
  {
   "cell_type": "markdown",
   "metadata": {},
   "source": [
    "# Technique Fields\n",
    "Field types for each technique."
   ]
  },
  {
   "cell_type": "code",
   "execution_count": 1,
   "metadata": {},
   "outputs": [],
   "source": [
    "from enum import Enum"
   ]
  },
  {
   "cell_type": "code",
   "execution_count": 2,
   "metadata": {},
   "outputs": [],
   "source": [
    "class OCV( Enum ):\n",
    "    Rest_time_T     = float\n",
    "    Record_every_dE = float\n",
    "    Record_every_dT = float"
   ]
  },
  {
   "cell_type": "code",
   "execution_count": 3,
   "metadata": {},
   "outputs": [],
   "source": [
    "class CV( Enum ):\n",
    "    vs_initial       = bool\n",
    "    Voltage_step     = float\n",
    "    Scan_Rate        = float\n",
    "    Scan_number      = int\n",
    "    Record_every_dE  = float\n",
    "    Average_over_dE  = bool\n",
    "    N_Cycles         = int\n",
    "    Begin_measuring_I = float\n",
    "    End_measuring_I   = float"
   ]
  },
  {
   "cell_type": "code",
   "execution_count": null,
   "metadata": {},
   "outputs": [],
   "source": [
    "class CA( Enum ):\n",
    "    Voltage_step      = float\n",
    "    vs_initial        = bool\n",
    "    Duration_step     = float\n",
    "    Step_number       = int\n",
    "    Record_every_dT   = float\n",
    "    Record_every_dI   = float\n",
    "    N_Cycles          = int"
   ]
  },
  {
   "cell_type": "code",
   "execution_count": null,
   "metadata": {},
   "outputs": [],
   "source": [
    "class CP( Enum ):\n",
    "    Current_step      = float\n",
    "    vs_initial        = bool\n",
    "    Duration_step     = float\n",
    "    Step_number       = int\n",
    "    Record_every_dT   = float\n",
    "    Record_every_dE   = float\n",
    "    N_Cycles          = int"
   ]
  },
  {
   "cell_type": "code",
   "execution_count": null,
   "metadata": {},
   "outputs": [],
   "source": [
    "class CALIMIT( Enum ):\n",
    "    Voltage_step      = float\n",
    "    vs_initial        = bool\n",
    "    Duration_step     = float\n",
    "    Step_nuber        = int\n",
    "    Record_every_dT   = float\n",
    "    Record_every_dI   = float\n",
    "    Test1_Config      = int\n",
    "    Test1_Value       = float\n",
    "    Test2_Config      = int\n",
    "    Test2_Value       = float\n",
    "    Test3_Config      = int\n",
    "    Test3_Value       = float\n",
    "    Exit_Cond         = int\n",
    "    N_Cycles          = int"
   ]
  },
  {
   "cell_type": "code",
   "execution_count": null,
   "metadata": {},
   "outputs": [],
   "source": [
    "class CPLIMIT( Enum ):\n",
    "    Current_step      = float\n",
    "    vs_initial        = bool\n",
    "    Duration_step     = float\n",
    "    Step_nuber        = int\n",
    "    Record_every_dT   = float\n",
    "    Record_every_dE   = float\n",
    "    Test1_Config      = int\n",
    "    Test1_Value       = float\n",
    "    Test2_Config      = int\n",
    "    Test2_Value       = float\n",
    "    Test3_Config      = int\n",
    "    Test3_Value       = float\n",
    "    Exit_Cond         = int\n",
    "    N_Cycles          = int"
   ]
  },
  {
   "cell_type": "code",
   "execution_count": null,
   "metadata": {},
   "outputs": [],
   "source": [
    "class PEIS( Enum ):\n",
    "    vs_initial           = bool\n",
    "    vs_final             = bool\n",
    "    Initial_Voltage_step = float \n",
    "    Final_Voltage_step   = float\n",
    "    Duration_step        = float \n",
    "    Step_number          = int\n",
    "    Record_every_dT      = float\n",
    "    Record_every_dI      = float\n",
    "    Final_frequency      = float\n",
    "    Initial_frequency    = float\n",
    "    sweep                = bool\n",
    "    Amplitude_Voltage    = float \n",
    "    Frequency_number     = int\n",
    "    Average_N_times      = int\n",
    "    Correction           = bool\n",
    "    Wait_for_steady      = float"
   ]
  }
 ],
 "metadata": {
  "kernelspec": {
   "display_name": "Python 3",
   "language": "python",
   "name": "python3"
  },
  "language_info": {
   "codemirror_mode": {
    "name": "ipython",
    "version": 3
   },
   "file_extension": ".py",
   "mimetype": "text/x-python",
   "name": "python",
   "nbconvert_exporter": "python",
   "pygments_lexer": "ipython3",
   "version": "3.7.3"
  }
 },
 "nbformat": 4,
 "nbformat_minor": 2
}
