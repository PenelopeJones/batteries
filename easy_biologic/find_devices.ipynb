{
 "cells": [
  {
   "cell_type": "markdown",
   "metadata": {},
   "source": [
    "# Find Devices\n",
    "Convenience script for finding Biologic devices."
   ]
  },
  {
   "cell_type": "code",
   "execution_count": 6,
   "metadata": {},
   "outputs": [],
   "source": [
    "import argparse\n",
    "\n",
    "from lib import ec_find as ecf"
   ]
  },
  {
   "cell_type": "code",
   "execution_count": 7,
   "metadata": {},
   "outputs": [],
   "source": [
    "def run():\n",
    "    # parse command line\n",
    "    parser = argparse.ArgumentParser(\n",
    "        description = 'Find BioLogic devices.'\n",
    "    )\n",
    "\n",
    "    parser.add_argument( \n",
    "        '--connection', '-conn', '-c',\n",
    "        dest = 'conn',\n",
    "        choices = [ 'usb', 'eth' ],\n",
    "        action = 'store',\n",
    "        help = 'The type of connection to use.'\n",
    "    )\n",
    "\n",
    "    args = parser.parse_args()\n",
    "\n",
    "    # find and display devices\n",
    "    devs = ecf.find_devices( args.conn )\n",
    "    for device in devs:\n",
    "        desc = '{}: {}'.format(\n",
    "            device.kind,\n",
    "            device.connection_string\n",
    "        )\n",
    "\n",
    "        print( desc )"
   ]
  },
  {
   "cell_type": "code",
   "execution_count": 8,
   "metadata": {},
   "outputs": [
    {
     "name": "stderr",
     "output_type": "stream",
     "text": [
      "usage: ipykernel_launcher.py [-h] [--connection {usb,eth}]\n",
      "ipykernel_launcher.py: error: unrecognized arguments: -f C:\\Users\\carls\\AppData\\Roaming\\jupyter\\runtime\\kernel-046dd5ad-8aa1-4b08-92e0-2d10cd6e9f87.json\n"
     ]
    },
    {
     "ename": "SystemExit",
     "evalue": "2",
     "output_type": "error",
     "traceback": [
      "An exception has occurred, use %tb to see the full traceback.\n",
      "\u001b[1;31mSystemExit\u001b[0m\u001b[1;31m:\u001b[0m 2\n"
     ]
    },
    {
     "name": "stderr",
     "output_type": "stream",
     "text": [
      "C:\\Users\\carls\\Anaconda3\\lib\\site-packages\\IPython\\core\\interactiveshell.py:2969: UserWarning: To exit: use 'exit', 'quit', or Ctrl-D.\n",
      "  warn(\"To exit: use 'exit', 'quit', or Ctrl-D.\", stacklevel=1)\n"
     ]
    }
   ],
   "source": [
    "if __name__ == '__main__':\n",
    "    run()"
   ]
  },
  {
   "cell_type": "code",
   "execution_count": null,
   "metadata": {},
   "outputs": [],
   "source": []
  }
 ],
 "metadata": {
  "kernelspec": {
   "display_name": "Python 3",
   "language": "python",
   "name": "python3"
  },
  "language_info": {
   "codemirror_mode": {
    "name": "ipython",
    "version": 3
   },
   "file_extension": ".py",
   "mimetype": "text/x-python",
   "name": "python",
   "nbconvert_exporter": "python",
   "pygments_lexer": "ipython3",
   "version": "3.7.4"
  }
 },
 "nbformat": 4,
 "nbformat_minor": 2
}
